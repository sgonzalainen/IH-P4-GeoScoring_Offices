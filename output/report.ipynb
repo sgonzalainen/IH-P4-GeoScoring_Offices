{
 "cells": [
  {
   "cell_type": "code",
   "execution_count": 8,
   "metadata": {},
   "outputs": [],
   "source": [
    "import IPython.display\n",
    "import pandas as pd"
   ]
  },
  {
   "cell_type": "markdown",
   "metadata": {},
   "source": [
    "## Candidates"
   ]
  },
  {
   "cell_type": "markdown",
   "metadata": {},
   "source": [
    "Here it is shown all the coworking spaces found in Foursquare API."
   ]
  },
  {
   "cell_type": "code",
   "execution_count": 7,
   "metadata": {},
   "outputs": [
    {
     "data": {
      "text/html": [
       "\n",
       "        <iframe\n",
       "            width=\"1000\"\n",
       "            height=\"500\"\n",
       "            src=\"../output/candidates_map.html\"\n",
       "            frameborder=\"0\"\n",
       "            allowfullscreen\n",
       "        ></iframe>\n",
       "        "
      ],
      "text/plain": [
       "<IPython.lib.display.IFrame at 0x7fdde80a0a90>"
      ]
     },
     "execution_count": 7,
     "metadata": {},
     "output_type": "execute_result"
    }
   ],
   "source": [
    "IPython.display.IFrame('../output/candidates_map.html' ,width=1000,  height=500)"
   ]
  },
  {
   "cell_type": "markdown",
   "metadata": {},
   "source": [
    "## Results"
   ]
  },
  {
   "cell_type": "markdown",
   "metadata": {},
   "source": [
    "Based on the scoring system, here is the top 3 and bottom 3 along with its score per section and total score."
   ]
  },
  {
   "cell_type": "code",
   "execution_count": 11,
   "metadata": {},
   "outputs": [],
   "source": [
    "df = pd.read_csv('../data/score.csv')"
   ]
  },
  {
   "cell_type": "code",
   "execution_count": 14,
   "metadata": {},
   "outputs": [
    {
     "data": {
      "text/html": [
       "<div>\n",
       "<style scoped>\n",
       "    .dataframe tbody tr th:only-of-type {\n",
       "        vertical-align: middle;\n",
       "    }\n",
       "\n",
       "    .dataframe tbody tr th {\n",
       "        vertical-align: top;\n",
       "    }\n",
       "\n",
       "    .dataframe thead th {\n",
       "        text-align: right;\n",
       "    }\n",
       "</style>\n",
       "<table border=\"1\" class=\"dataframe\">\n",
       "  <thead>\n",
       "    <tr style=\"text-align: right;\">\n",
       "      <th></th>\n",
       "      <th>_id</th>\n",
       "      <th>name</th>\n",
       "      <th>location</th>\n",
       "      <th>design_score</th>\n",
       "      <th>school_score</th>\n",
       "      <th>tech_score</th>\n",
       "      <th>starbucks_score</th>\n",
       "      <th>airport_score</th>\n",
       "      <th>party_score</th>\n",
       "      <th>vegan_score</th>\n",
       "      <th>basket_score</th>\n",
       "      <th>dog_score</th>\n",
       "      <th>total</th>\n",
       "    </tr>\n",
       "  </thead>\n",
       "  <tbody>\n",
       "    <tr>\n",
       "      <th>0</th>\n",
       "      <td>5fafe7f65143de9ede25a20e</td>\n",
       "      <td>Epicenter</td>\n",
       "      <td>{'coordinates': [24.94577562322455, 60.1698553...</td>\n",
       "      <td>0</td>\n",
       "      <td>535</td>\n",
       "      <td>225</td>\n",
       "      <td>500</td>\n",
       "      <td>433.0</td>\n",
       "      <td>1935</td>\n",
       "      <td>100</td>\n",
       "      <td>10</td>\n",
       "      <td>0</td>\n",
       "      <td>3738.0</td>\n",
       "    </tr>\n",
       "    <tr>\n",
       "      <th>1</th>\n",
       "      <td>5fafe7f65143de9ede25a21f</td>\n",
       "      <td>Terveystalo Piazza</td>\n",
       "      <td>{'coordinates': [24.930631, 60.169916], 'type'...</td>\n",
       "      <td>0</td>\n",
       "      <td>535</td>\n",
       "      <td>225</td>\n",
       "      <td>500</td>\n",
       "      <td>401.0</td>\n",
       "      <td>1935</td>\n",
       "      <td>100</td>\n",
       "      <td>10</td>\n",
       "      <td>0</td>\n",
       "      <td>3706.0</td>\n",
       "    </tr>\n",
       "    <tr>\n",
       "      <th>2</th>\n",
       "      <td>5fafe7f65143de9ede25a220</td>\n",
       "      <td>Four Reasons</td>\n",
       "      <td>{'coordinates': [24.929534196853634, 60.168788...</td>\n",
       "      <td>0</td>\n",
       "      <td>535</td>\n",
       "      <td>225</td>\n",
       "      <td>500</td>\n",
       "      <td>392.0</td>\n",
       "      <td>1935</td>\n",
       "      <td>100</td>\n",
       "      <td>10</td>\n",
       "      <td>5</td>\n",
       "      <td>3702.0</td>\n",
       "    </tr>\n",
       "  </tbody>\n",
       "</table>\n",
       "</div>"
      ],
      "text/plain": [
       "                        _id                name  \\\n",
       "0  5fafe7f65143de9ede25a20e           Epicenter   \n",
       "1  5fafe7f65143de9ede25a21f  Terveystalo Piazza   \n",
       "2  5fafe7f65143de9ede25a220        Four Reasons   \n",
       "\n",
       "                                            location  design_score  \\\n",
       "0  {'coordinates': [24.94577562322455, 60.1698553...             0   \n",
       "1  {'coordinates': [24.930631, 60.169916], 'type'...             0   \n",
       "2  {'coordinates': [24.929534196853634, 60.168788...             0   \n",
       "\n",
       "   school_score  tech_score  starbucks_score  airport_score  party_score  \\\n",
       "0           535         225              500          433.0         1935   \n",
       "1           535         225              500          401.0         1935   \n",
       "2           535         225              500          392.0         1935   \n",
       "\n",
       "   vegan_score  basket_score  dog_score   total  \n",
       "0          100            10          0  3738.0  \n",
       "1          100            10          0  3706.0  \n",
       "2          100            10          5  3702.0  "
      ]
     },
     "execution_count": 14,
     "metadata": {},
     "output_type": "execute_result"
    }
   ],
   "source": [
    "df.sort_values('total', ascending = False).head(3)"
   ]
  },
  {
   "cell_type": "code",
   "execution_count": 16,
   "metadata": {},
   "outputs": [
    {
     "data": {
      "text/html": [
       "<div>\n",
       "<style scoped>\n",
       "    .dataframe tbody tr th:only-of-type {\n",
       "        vertical-align: middle;\n",
       "    }\n",
       "\n",
       "    .dataframe tbody tr th {\n",
       "        vertical-align: top;\n",
       "    }\n",
       "\n",
       "    .dataframe thead th {\n",
       "        text-align: right;\n",
       "    }\n",
       "</style>\n",
       "<table border=\"1\" class=\"dataframe\">\n",
       "  <thead>\n",
       "    <tr style=\"text-align: right;\">\n",
       "      <th></th>\n",
       "      <th>_id</th>\n",
       "      <th>name</th>\n",
       "      <th>location</th>\n",
       "      <th>design_score</th>\n",
       "      <th>school_score</th>\n",
       "      <th>tech_score</th>\n",
       "      <th>starbucks_score</th>\n",
       "      <th>airport_score</th>\n",
       "      <th>party_score</th>\n",
       "      <th>vegan_score</th>\n",
       "      <th>basket_score</th>\n",
       "      <th>dog_score</th>\n",
       "      <th>total</th>\n",
       "    </tr>\n",
       "  </thead>\n",
       "  <tbody>\n",
       "    <tr>\n",
       "      <th>66</th>\n",
       "      <td>5fafe7f65143de9ede25a22d</td>\n",
       "      <td>Eckerö Line</td>\n",
       "      <td>{'coordinates': [24.920848013578677, 60.154510...</td>\n",
       "      <td>0</td>\n",
       "      <td>0</td>\n",
       "      <td>0</td>\n",
       "      <td>0</td>\n",
       "      <td>224.0</td>\n",
       "      <td>0</td>\n",
       "      <td>0</td>\n",
       "      <td>10</td>\n",
       "      <td>0</td>\n",
       "      <td>234.0</td>\n",
       "    </tr>\n",
       "    <tr>\n",
       "      <th>67</th>\n",
       "      <td>5fafe7f65143de9ede25a23e</td>\n",
       "      <td>Moonsoft Oy</td>\n",
       "      <td>{'coordinates': [24.820141111789763, 60.179604...</td>\n",
       "      <td>0</td>\n",
       "      <td>0</td>\n",
       "      <td>0</td>\n",
       "      <td>0</td>\n",
       "      <td>191.0</td>\n",
       "      <td>0</td>\n",
       "      <td>0</td>\n",
       "      <td>10</td>\n",
       "      <td>0</td>\n",
       "      <td>201.0</td>\n",
       "    </tr>\n",
       "    <tr>\n",
       "      <th>68</th>\n",
       "      <td>5fafe7f65143de9ede25a247</td>\n",
       "      <td>Ahti Business Park</td>\n",
       "      <td>{'coordinates': [24.774798229336735, 60.166870...</td>\n",
       "      <td>0</td>\n",
       "      <td>0</td>\n",
       "      <td>0</td>\n",
       "      <td>0</td>\n",
       "      <td>112.0</td>\n",
       "      <td>0</td>\n",
       "      <td>0</td>\n",
       "      <td>10</td>\n",
       "      <td>0</td>\n",
       "      <td>122.0</td>\n",
       "    </tr>\n",
       "  </tbody>\n",
       "</table>\n",
       "</div>"
      ],
      "text/plain": [
       "                         _id                name  \\\n",
       "66  5fafe7f65143de9ede25a22d         Eckerö Line   \n",
       "67  5fafe7f65143de9ede25a23e         Moonsoft Oy   \n",
       "68  5fafe7f65143de9ede25a247  Ahti Business Park   \n",
       "\n",
       "                                             location  design_score  \\\n",
       "66  {'coordinates': [24.920848013578677, 60.154510...             0   \n",
       "67  {'coordinates': [24.820141111789763, 60.179604...             0   \n",
       "68  {'coordinates': [24.774798229336735, 60.166870...             0   \n",
       "\n",
       "    school_score  tech_score  starbucks_score  airport_score  party_score  \\\n",
       "66             0           0                0          224.0            0   \n",
       "67             0           0                0          191.0            0   \n",
       "68             0           0                0          112.0            0   \n",
       "\n",
       "    vegan_score  basket_score  dog_score  total  \n",
       "66            0            10          0  234.0  \n",
       "67            0            10          0  201.0  \n",
       "68            0            10          0  122.0  "
      ]
     },
     "execution_count": 16,
     "metadata": {},
     "output_type": "execute_result"
    }
   ],
   "source": [
    "df.sort_values('total', ascending = False).tail(3)"
   ]
  },
  {
   "cell_type": "markdown",
   "metadata": {},
   "source": [
    "## Winner details"
   ]
  },
  {
   "cell_type": "markdown",
   "metadata": {},
   "source": [
    "Here is our winner. Check [it](https://weareepicenter.com/helsinki/) out."
   ]
  },
  {
   "cell_type": "markdown",
   "metadata": {},
   "source": [
    "Latitude: **60.170**\n",
    "Longitude: **24.946**"
   ]
  },
  {
   "cell_type": "code",
   "execution_count": 17,
   "metadata": {},
   "outputs": [
    {
     "data": {
      "text/html": [
       "<div>\n",
       "<style scoped>\n",
       "    .dataframe tbody tr th:only-of-type {\n",
       "        vertical-align: middle;\n",
       "    }\n",
       "\n",
       "    .dataframe tbody tr th {\n",
       "        vertical-align: top;\n",
       "    }\n",
       "\n",
       "    .dataframe thead th {\n",
       "        text-align: right;\n",
       "    }\n",
       "</style>\n",
       "<table border=\"1\" class=\"dataframe\">\n",
       "  <thead>\n",
       "    <tr style=\"text-align: right;\">\n",
       "      <th></th>\n",
       "      <th>_id</th>\n",
       "      <th>name</th>\n",
       "      <th>location</th>\n",
       "      <th>design_score</th>\n",
       "      <th>school_score</th>\n",
       "      <th>tech_score</th>\n",
       "      <th>starbucks_score</th>\n",
       "      <th>airport_score</th>\n",
       "      <th>party_score</th>\n",
       "      <th>vegan_score</th>\n",
       "      <th>basket_score</th>\n",
       "      <th>dog_score</th>\n",
       "      <th>total</th>\n",
       "    </tr>\n",
       "  </thead>\n",
       "  <tbody>\n",
       "    <tr>\n",
       "      <th>0</th>\n",
       "      <td>5fafe7f65143de9ede25a20e</td>\n",
       "      <td>Epicenter</td>\n",
       "      <td>{'coordinates': [24.94577562322455, 60.1698553...</td>\n",
       "      <td>0</td>\n",
       "      <td>535</td>\n",
       "      <td>225</td>\n",
       "      <td>500</td>\n",
       "      <td>433.0</td>\n",
       "      <td>1935</td>\n",
       "      <td>100</td>\n",
       "      <td>10</td>\n",
       "      <td>0</td>\n",
       "      <td>3738.0</td>\n",
       "    </tr>\n",
       "  </tbody>\n",
       "</table>\n",
       "</div>"
      ],
      "text/plain": [
       "                        _id       name  \\\n",
       "0  5fafe7f65143de9ede25a20e  Epicenter   \n",
       "\n",
       "                                            location  design_score  \\\n",
       "0  {'coordinates': [24.94577562322455, 60.1698553...             0   \n",
       "\n",
       "   school_score  tech_score  starbucks_score  airport_score  party_score  \\\n",
       "0           535         225              500          433.0         1935   \n",
       "\n",
       "   vegan_score  basket_score  dog_score   total  \n",
       "0          100            10          0  3738.0  "
      ]
     },
     "execution_count": 17,
     "metadata": {},
     "output_type": "execute_result"
    }
   ],
   "source": [
    "df.sort_values('total', ascending = False).head(1)"
   ]
  },
  {
   "cell_type": "markdown",
   "metadata": {},
   "source": [
    "### Nearby venues\n"
   ]
  },
  {
   "cell_type": "markdown",
   "metadata": {},
   "source": [
    "As shown below:\n",
    "* Employees with kids would be very happy since close to the venue there is a **very near preschool** to leave children during working hours.\n",
    "* Also Ceo should not be worried about his/her vegan lunch. Several **vegan-friendly restaurants** are nearby.\n",
    "* After a long exhausting day, teambuilding is essential and employees have a **great offer of night clubs** to hit.\n",
    "* **Starbucks** are quite scarce in Finland, actually the very [first Starbucks](https://www.helsinkitimes.fi/business/2241-finland-s-first-starbucks-store-opens-at-helsinki-vantaa-airport.html) came out in 2012 and was located at the Airport! Luckily, our Executives can reach one in less than 5  minutes.\n",
    "* The major cluster of **tech start-ups** are Helsinki region is located at city center, therefore, developers should also be happy.\n",
    "* Lastly, maintenance guy could enjoy free time by watching **basketball** at several venues. "
   ]
  },
  {
   "cell_type": "code",
   "execution_count": 20,
   "metadata": {},
   "outputs": [
    {
     "data": {
      "text/html": [
       "\n",
       "        <iframe\n",
       "            width=\"1000\"\n",
       "            height=\"500\"\n",
       "            src=\"../output/nearby_map.html\"\n",
       "            frameborder=\"0\"\n",
       "            allowfullscreen\n",
       "        ></iframe>\n",
       "        "
      ],
      "text/plain": [
       "<IPython.lib.display.IFrame at 0x7fddc1855f10>"
      ]
     },
     "execution_count": 20,
     "metadata": {},
     "output_type": "execute_result"
    }
   ],
   "source": [
    "IPython.display.IFrame('../output/nearby_map.html' ,width=1000,  height=500)"
   ]
  },
  {
   "cell_type": "markdown",
   "metadata": {},
   "source": [
    "### Airport location"
   ]
  },
  {
   "cell_type": "markdown",
   "metadata": {},
   "source": [
    "Initially, we set an ideal travel time to airport of 20 minutes by car, or 40 minutes by public transport."
   ]
  },
  {
   "cell_type": "markdown",
   "metadata": {},
   "source": [
    "Unfortunately, Helsinki International Airport is located at Vantaa, about 18 km from Helsinki Center.\n",
    "But our venue is located in a very good spot to go to airport, specially by public transport, having the train station just around the corner.\n",
    "\n",
    "* Travel time by car : **26.7** min\n",
    "* Travel time by train : **33.3** min"
   ]
  },
  {
   "cell_type": "code",
   "execution_count": 22,
   "metadata": {
    "scrolled": true
   },
   "outputs": [
    {
     "data": {
      "text/html": [
       "\n",
       "        <iframe\n",
       "            width=\"1000\"\n",
       "            height=\"500\"\n",
       "            src=\"../output/2airport_map.html\"\n",
       "            frameborder=\"0\"\n",
       "            allowfullscreen\n",
       "        ></iframe>\n",
       "        "
      ],
      "text/plain": [
       "<IPython.lib.display.IFrame at 0x7fddc18555b0>"
      ]
     },
     "execution_count": 22,
     "metadata": {},
     "output_type": "execute_result"
    }
   ],
   "source": [
    "IPython.display.IFrame('../output/2airport_map.html' ,width=1000,  height=500)"
   ]
  },
  {
   "cell_type": "markdown",
   "metadata": {},
   "source": [
    "### Other Venues"
   ]
  },
  {
   "cell_type": "markdown",
   "metadata": {},
   "source": [
    "On the first map, you may missed a location of a **design company** to please our designer or a **dog groomer** for 'Pepe'."
   ]
  },
  {
   "cell_type": "markdown",
   "metadata": {},
   "source": [
    "Unfortunately, our office does not meet the minimum required distance for those two venues. Nevertheless, below you can find the closest venues along with its distance to our office. Not that bad either right?"
   ]
  },
  {
   "cell_type": "code",
   "execution_count": 23,
   "metadata": {},
   "outputs": [
    {
     "data": {
      "text/html": [
       "\n",
       "        <iframe\n",
       "            width=\"1000\"\n",
       "            height=\"500\"\n",
       "            src=\"../output/closest_map.html\"\n",
       "            frameborder=\"0\"\n",
       "            allowfullscreen\n",
       "        ></iframe>\n",
       "        "
      ],
      "text/plain": [
       "<IPython.lib.display.IFrame at 0x7fddc1855e80>"
      ]
     },
     "execution_count": 23,
     "metadata": {},
     "output_type": "execute_result"
    }
   ],
   "source": [
    "IPython.display.IFrame('../output/closest_map.html' ,width=1000,  height=500)"
   ]
  },
  {
   "cell_type": "markdown",
   "metadata": {},
   "source": [
    "### Where is our most important start-up competitor?"
   ]
  },
  {
   "cell_type": "markdown",
   "metadata": {},
   "source": [
    "And finally, let's find out where is located our successfull competitor **Supercell**. It is 1.8 km away."
   ]
  },
  {
   "cell_type": "code",
   "execution_count": 5,
   "metadata": {
    "scrolled": true
   },
   "outputs": [
    {
     "data": {
      "text/html": [
       "\n",
       "        <iframe\n",
       "            width=\"1000\"\n",
       "            height=\"500\"\n",
       "            src=\"../output/competitor_map.html\"\n",
       "            frameborder=\"0\"\n",
       "            allowfullscreen\n",
       "        ></iframe>\n",
       "        "
      ],
      "text/plain": [
       "<IPython.lib.display.IFrame at 0x7fdde80a0370>"
      ]
     },
     "execution_count": 5,
     "metadata": {},
     "output_type": "execute_result"
    }
   ],
   "source": [
    "IPython.display.IFrame('../output/competitor_map.html' ,width=1000,  height=500)"
   ]
  },
  {
   "cell_type": "code",
   "execution_count": null,
   "metadata": {},
   "outputs": [],
   "source": []
  }
 ],
 "metadata": {
  "kernelspec": {
   "display_name": "Python 3",
   "language": "python",
   "name": "python3"
  },
  "language_info": {
   "codemirror_mode": {
    "name": "ipython",
    "version": 3
   },
   "file_extension": ".py",
   "mimetype": "text/x-python",
   "name": "python",
   "nbconvert_exporter": "python",
   "pygments_lexer": "ipython3",
   "version": "3.8.3"
  }
 },
 "nbformat": 4,
 "nbformat_minor": 4
}
